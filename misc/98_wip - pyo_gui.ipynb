{
 "cells": [
  {
   "cell_type": "code",
   "execution_count": null,
   "id": "25d6d1d2",
   "metadata": {},
   "outputs": [],
   "source": []
  },
  {
   "cell_type": "code",
   "execution_count": 6,
   "id": "1113c894",
   "metadata": {},
   "outputs": [
    {
     "ename": "ModuleNotFoundError",
     "evalue": "No module named '_tkinter'",
     "output_type": "error",
     "traceback": [
      "\u001b[31m---------------------------------------------------------------------------\u001b[39m",
      "\u001b[31mModuleNotFoundError\u001b[39m                       Traceback (most recent call last)",
      "\u001b[36mCell\u001b[39m\u001b[36m \u001b[39m\u001b[32mIn[6]\u001b[39m\u001b[32m, line 1\u001b[39m\n\u001b[32m----> \u001b[39m\u001b[32m1\u001b[39m \u001b[38;5;28;01mimport\u001b[39;00m\u001b[38;5;250m \u001b[39m\u001b[34;01mtkinter\u001b[39;00m\u001b[38;5;250m \u001b[39m\u001b[38;5;28;01mas\u001b[39;00m\u001b[38;5;250m \u001b[39m\u001b[34;01mtk\u001b[39;00m\n\u001b[32m      2\u001b[39m \u001b[38;5;28;01mfrom\u001b[39;00m\u001b[38;5;250m \u001b[39m\u001b[34;01mpyo\u001b[39;00m\u001b[38;5;250m \u001b[39m\u001b[38;5;28;01mimport\u001b[39;00m *\n\u001b[32m      4\u001b[39m \u001b[38;5;66;03m# Boot pyo\u001b[39;00m\n",
      "\u001b[36mFile \u001b[39m\u001b[32m~/.pyenv/versions/3.12.9/Library/Frameworks/Python.framework/Versions/3.12/lib/python3.12/tkinter/__init__.py:38\u001b[39m\n\u001b[32m     35\u001b[39m \u001b[38;5;28;01mimport\u001b[39;00m\u001b[38;5;250m \u001b[39m\u001b[34;01msys\u001b[39;00m\n\u001b[32m     36\u001b[39m \u001b[38;5;28;01mimport\u001b[39;00m\u001b[38;5;250m \u001b[39m\u001b[34;01mtypes\u001b[39;00m\n\u001b[32m---> \u001b[39m\u001b[32m38\u001b[39m \u001b[38;5;28;01mimport\u001b[39;00m\u001b[38;5;250m \u001b[39m\u001b[34;01m_tkinter\u001b[39;00m \u001b[38;5;66;03m# If this fails your Python may not be configured for Tk\u001b[39;00m\n\u001b[32m     39\u001b[39m TclError = _tkinter.TclError\n\u001b[32m     40\u001b[39m \u001b[38;5;28;01mfrom\u001b[39;00m\u001b[38;5;250m \u001b[39m\u001b[34;01mtkinter\u001b[39;00m\u001b[34;01m.\u001b[39;00m\u001b[34;01mconstants\u001b[39;00m\u001b[38;5;250m \u001b[39m\u001b[38;5;28;01mimport\u001b[39;00m *\n",
      "\u001b[31mModuleNotFoundError\u001b[39m: No module named '_tkinter'"
     ]
    }
   ],
   "source": [
    "import tkinter as tk\n",
    "from pyo import *\n",
    "\n",
    "# Boot pyo\n",
    "s = Server().boot()\n",
    "\n",
    "# Control signals\n",
    "pitch = SigTo(value=440, time=0.05)\n",
    "volume = SigTo(value=0.2, time=0.05)\n",
    "\n",
    "# Synth voice using your reusable function\n",
    "def make_synth_voice(pitch, volume, waveform=\"sine\"):\n",
    "    freq = Sig(pitch)\n",
    "    amp = Sig(volume)\n",
    "\n",
    "    if waveform == \"sine\":\n",
    "        osc = Sine(freq=freq, mul=amp)\n",
    "    elif waveform == \"square\":\n",
    "        osc = LFO(freq=freq, type=1, mul=amp)\n",
    "    elif waveform == \"saw\":\n",
    "        osc = LFO(freq=freq, type=2, mul=amp)\n",
    "    else:\n",
    "        raise ValueError(f\"Unknown waveform: {waveform}\")\n",
    "\n",
    "    env = Fader(fadein=0.01, fadeout=0.1, dur=999).play()\n",
    "    return osc * env\n",
    "\n",
    "voice = make_synth_voice(pitch, volume).out()\n",
    "\n",
    "# GUI window using tkinter\n",
    "def update_params(event):\n",
    "    w = event.widget.winfo_width()\n",
    "    h = event.widget.winfo_height()\n",
    "\n",
    "    # Normalize X/Y\n",
    "    x = event.x / w\n",
    "    y = 1 - (event.y / h)  # invert Y so up = louder\n",
    "\n",
    "    # Map X to pitch (100 - 1000 Hz), Y to volume (0 - 0.5)\n",
    "    pitch.value = 100 + (x * 900)\n",
    "    volume.value = y * 0.5\n",
    "\n",
    "# Create a simple tkinter window\n",
    "root = tk.Tk()\n",
    "root.title(\"Touchpad Synth Control\")\n",
    "canvas = tk.Canvas(root, width=600, height=400, bg=\"black\")\n",
    "canvas.pack()\n",
    "\n",
    "canvas.bind(\"<Motion>\", update_params)\n",
    "\n",
    "# Run pyo GUI in parallel\n",
    "s.gui(locals())"
   ]
  },
  {
   "cell_type": "code",
   "execution_count": null,
   "id": "f6d0fe55",
   "metadata": {},
   "outputs": [],
   "source": []
  },
  {
   "cell_type": "code",
   "execution_count": 5,
   "id": "10c7a25f",
   "metadata": {},
   "outputs": [
    {
     "data": {
      "text/plain": [
       "['/Users/thorwhalen/.pyenv/versions/3.12.9/envs/pyo_framework_3_12_9/lib/python3.12/site-packages/pyo']"
      ]
     },
     "execution_count": 5,
     "metadata": {},
     "output_type": "execute_result"
    }
   ],
   "source": [
    "import pyo\n",
    "pyo.__path__"
   ]
  },
  {
   "cell_type": "code",
   "execution_count": null,
   "id": "cb8cb877",
   "metadata": {},
   "outputs": [],
   "source": []
  }
 ],
 "metadata": {
  "kernelspec": {
   "display_name": "pyo_framework_3_12_9",
   "language": "python",
   "name": "python3"
  },
  "language_info": {
   "codemirror_mode": {
    "name": "ipython",
    "version": 3
   },
   "file_extension": ".py",
   "mimetype": "text/x-python",
   "name": "python",
   "nbconvert_exporter": "python",
   "pygments_lexer": "ipython3",
   "version": "3.12.9"
  }
 },
 "nbformat": 4,
 "nbformat_minor": 5
}
